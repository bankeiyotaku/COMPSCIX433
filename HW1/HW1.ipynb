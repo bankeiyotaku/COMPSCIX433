{
 "cells": [
  {
   "attachments": {},
   "cell_type": "markdown",
   "metadata": {},
   "source": [
    "# Homework 1 - COMPSCIX433 - Eugene Mesgar - 7/3/2023"
   ]
  },
  {
   "attachments": {},
   "cell_type": "markdown",
   "metadata": {},
   "source": [
    "Instructions: Have all the code for all the questions in one Jupyter notebook and upload the file at the time of submission. I will only consider this file format for grading. Run all the cells before uploading the file. So, after you uploaded the file, check the file extension and if it is not an ipynb, then upload the right file.\n",
    "\n",
    "Question 1: (5 points) Read dictionary.csv file (this file is in the Files section of your class portal) as a Pandas DataFrame and perform the following:\n",
    "\n",
    "a) Print the column names.\n",
    "\n",
    "b) Print the shape.\n",
    "\n",
    "c) Check if there any missing values or not a number in the columns. Print the missing or not a number count for each column.\n",
    "\n",
    "d) Find mean of Population and mean of GDP per Capita and print the values.\n",
    "\n",
    "e) Propose a method to fill the missing values or not a number for each. Explain why you choose this method.\n",
    "\n",
    "\n"
   ]
  },
  {
   "cell_type": "code",
   "execution_count": 1,
   "metadata": {},
   "outputs": [],
   "source": [
    "import warnings\n",
    "warnings.simplefilter(action='ignore', category=FutureWarning)\n",
    "\n",
    "import pandas as pd\n",
    "import matplotlib.pyplot as plt\n",
    "\n",
    "import numpy as np\n",
    "from sklearn import linear_model\n",
    "from sklearn.model_selection import train_test_split\n",
    "from sklearn.preprocessing import StandardScaler\n",
    "\n",
    "%matplotlib inline"
   ]
  },
  {
   "cell_type": "code",
   "execution_count": 2,
   "metadata": {},
   "outputs": [
    {
     "name": "stdout",
     "output_type": "stream",
     "text": [
      "Column names: Country, Code, Population, GDP per Capita\n",
      "Dataframe Shape:  (201, 4)\n"
     ]
    }
   ],
   "source": [
    "df = pd.read_csv(\"dictionary.csv\")\n",
    "\n",
    "print( f\"Column names: {', '.join( df.columns.to_list())}\")\n",
    "print (f\"Dataframe Shape:  {df.shape}\")\n",
    "\n",
    "df = df.rename( columns= { \"GDP per Capita\" : \"GDP_per_Capita\" })\n",
    "    \n"
   ]
  },
  {
   "cell_type": "code",
   "execution_count": 3,
   "metadata": {},
   "outputs": [
    {
     "name": "stdout",
     "output_type": "stream",
     "text": [
      "Missing values/nan by columm:\n",
      "Country            0\n",
      "Code               0\n",
      "Population         5\n",
      "GDP_per_Capita    25\n",
      "dtype: int64\n"
     ]
    }
   ],
   "source": [
    "print(\"Missing values/nan by columm:\")\n",
    "print(df.isna().sum())\n"
   ]
  },
  {
   "cell_type": "code",
   "execution_count": 4,
   "metadata": {},
   "outputs": [
    {
     "name": "stdout",
     "output_type": "stream",
     "text": [
      "Population and GDP per Capita Mean\n",
      "Population        37228250\n",
      "GDP_per_Capita       12882\n",
      "Name: mean, dtype: int64\n"
     ]
    }
   ],
   "source": [
    "print(\"Population and GDP per Capita Mean\")\n",
    "print(df.describe().transpose()[\"mean\"].astype(int))"
   ]
  },
  {
   "cell_type": "code",
   "execution_count": 5,
   "metadata": {},
   "outputs": [
    {
     "data": {
      "text/html": [
       "<div>\n",
       "<style scoped>\n",
       "    .dataframe tbody tr th:only-of-type {\n",
       "        vertical-align: middle;\n",
       "    }\n",
       "\n",
       "    .dataframe tbody tr th {\n",
       "        vertical-align: top;\n",
       "    }\n",
       "\n",
       "    .dataframe thead th {\n",
       "        text-align: right;\n",
       "    }\n",
       "</style>\n",
       "<table border=\"1\" class=\"dataframe\">\n",
       "  <thead>\n",
       "    <tr style=\"text-align: right;\">\n",
       "      <th></th>\n",
       "      <th>Population</th>\n",
       "      <th>GDP_per_Capita</th>\n",
       "    </tr>\n",
       "  </thead>\n",
       "  <tbody>\n",
       "    <tr>\n",
       "      <th>Population</th>\n",
       "      <td>1.000000</td>\n",
       "      <td>-0.042539</td>\n",
       "    </tr>\n",
       "    <tr>\n",
       "      <th>GDP_per_Capita</th>\n",
       "      <td>-0.042539</td>\n",
       "      <td>1.000000</td>\n",
       "    </tr>\n",
       "  </tbody>\n",
       "</table>\n",
       "</div>"
      ],
      "text/plain": [
       "                Population  GDP_per_Capita\n",
       "Population        1.000000       -0.042539\n",
       "GDP_per_Capita   -0.042539        1.000000"
      ]
     },
     "metadata": {},
     "output_type": "display_data"
    },
    {
     "name": "stdout",
     "output_type": "stream",
     "text": [
      " There is no correlation -- useless to infer A->B, B->A\n"
     ]
    },
    {
     "data": {
      "image/png": "[encoded data removed]",
      "text/plain": [
       "<Figure size 640x480 with 1 Axes>"
      ]
     },
     "metadata": {},
     "output_type": "display_data"
    }
   ],
   "source": [
    "display ( df.corr() ) \n",
    "df.plot.scatter(y=\"Population\",x=\"GDP_per_Capita\")\n",
    "print(\" There is no correlation -- useless to infer A->B, B->A\")"
   ]
  },
  {
   "attachments": {},
   "cell_type": "markdown",
   "metadata": {},
   "source": [
    "### There is no correlation between Population and GDP Per Capita.  Left to my own devices, I would drop the NA fieldssince there is no signal.   If forced to fill for some reason, I would choose the median value of each.\n",
    "\n"
   ]
  },
  {
   "cell_type": "code",
   "execution_count": 6,
   "metadata": {},
   "outputs": [
    {
     "name": "stdout",
     "output_type": "stream",
     "text": [
      "Filling columns with media value for each column\n",
      "\n",
      "Checking to see NA filled\n"
     ]
    },
    {
     "data": {
      "text/plain": [
       "Country           0\n",
       "Code              0\n",
       "Population        0\n",
       "GDP_per_Capita    0\n",
       "dtype: int64"
      ]
     },
     "execution_count": 6,
     "metadata": {},
     "output_type": "execute_result"
    }
   ],
   "source": [
    "\n",
    "print(\"Filling columns with media value for each column\\n\")\n",
    "df_fill = df.fillna( df.median() )\n",
    "\n",
    "print(\"Checking to see NA filled\")\n",
    "\n",
    "df_fill.isna().sum()\n"
   ]
  },
  {
   "attachments": {},
   "cell_type": "markdown",
   "metadata": {},
   "source": [
    "# Part two: Linear regression\n",
    "\n",
    "\n",
    "Question 2 (5 points): Use Car_Purchasing_Data.csv file, this file is in the Linear Regression folder. In the auto example, find the multi-linear relationship \n",
    "between 'Age','Annual Salary', 'Net Worth' with 'Car Purchase Amount'. \n",
    "Find the mean squared error and r-squared for test set \n",
    "and train set and make a conclusion. "
   ]
  },
  {
   "cell_type": "code",
   "execution_count": 7,
   "metadata": {},
   "outputs": [
    {
     "name": "stdout",
     "output_type": "stream",
     "text": [
      "   Age  Annual Salary    Net Worth  Car Purchase Amount\n",
      "0   42    62812.09301  238961.2505          35321.45877\n",
      "1   41    66646.89292  530973.9078          45115.52566\n",
      "2   43    53798.55112  638467.1773          42925.70921\n",
      "3   58    79370.03798  548599.0524          67422.36313\n",
      "4   57    59729.15130  560304.0671          55915.46248\n"
     ]
    }
   ],
   "source": [
    "auto = pd.read_csv('Car_Purchasing_Data.csv')\n",
    "auto.drop([\"Customer Name\", \"Gender\", \"Credit Card Debt\", \"Customer e-mail\", \"Country\"], axis=1, inplace=True)\n",
    "\n",
    "\n",
    "print(auto.head())"
   ]
  },
  {
   "cell_type": "code",
   "execution_count": 8,
   "metadata": {},
   "outputs": [
    {
     "name": "stdout",
     "output_type": "stream",
     "text": [
      "Age                    0\n",
      "Annual Salary          0\n",
      "Net Worth              0\n",
      "Car Purchase Amount    0\n",
      "dtype: int64\n",
      "              Age  Annual Salary       Net Worth  Car Purchase Amount\n",
      "count  500.000000     500.000000      500.000000           500.000000\n",
      "mean    46.224000   62127.239608   431475.713625         44209.799218\n",
      "std      7.990339   11703.378228   173536.756340         10773.178744\n",
      "min     20.000000   20000.000000    20000.000000          9000.000000\n",
      "25%     41.000000   54391.977195   299824.195900         37629.896040\n",
      "50%     46.000000   62915.497035   426750.120650         43997.783390\n",
      "75%     52.000000   70117.862005   557324.478725         51254.709517\n",
      "max     70.000000  100000.000000  1000000.000000         80000.000000\n"
     ]
    }
   ],
   "source": [
    "# Peek at the data\n",
    "print(auto.isna().sum())\n",
    "print( auto.describe()) "
   ]
  },
  {
   "cell_type": "code",
   "execution_count": 9,
   "metadata": {},
   "outputs": [],
   "source": [
    "#Load linear training model\n",
    "reg = linear_model.LinearRegression()\n",
    "\n",
    "# Create a StandardScalar and Scale the input variables (not Y)\n",
    "a_scaler = StandardScaler() # creating an instance of Standard Scaler\n",
    "auto_independent = a_scaler.fit_transform(auto[['Age','Annual Salary', 'Net Worth']])\n",
    "\n",
    "#Split data into train and test sit\n",
    "x_train, x_test, y_train, y_test = train_test_split(auto_independent, auto[\"Car Purchase Amount\"], test_size=0.2, random_state=4)"
   ]
  },
  {
   "cell_type": "code",
   "execution_count": 10,
   "metadata": {},
   "outputs": [],
   "source": [
    "#Fit model based on training data and create a prediction for our test .. also create predition for train set\n",
    "reg.fit(x_train, y_train)\n",
    "yhat_test = reg.predict(x_test)\n",
    "yhat_train = reg.predict(x_train)"
   ]
  },
  {
   "cell_type": "code",
   "execution_count": 11,
   "metadata": {},
   "outputs": [
    {
     "name": "stdout",
     "output_type": "stream",
     "text": [
      "The delta between the two MSE is: 5.70% \n"
     ]
    }
   ],
   "source": [
    "from sklearn.metrics import mean_squared_error\n",
    "\n",
    "mse_test = mean_squared_error(y_test, yhat_test)\n",
    "mse_train = mean_squared_error(y_train, yhat_train)\n",
    "\n",
    "percent_error = np.abs(mse_train - mse_test)/mse_train\n",
    "\n",
    "print(f\"The delta between the two MSE is: {percent_error:.2%} \")\n"
   ]
  },
  {
   "cell_type": "code",
   "execution_count": 12,
   "metadata": {},
   "outputs": [
    {
     "name": "stdout",
     "output_type": "stream",
     "text": [
      "r-squared for the test data: 0.999\n",
      "r-squared for the train data: 1.000\n"
     ]
    }
   ],
   "source": [
    "from sklearn.metrics import r2_score\n",
    "\n",
    "print(f\"r-squared for the test data: {r2_score(y_test, yhat_test):.3f}\")\n",
    "    \n",
    "print(f\"r-squared for the train data: {r2_score(y_train, yhat_train):.3f}\")\n",
    "\n"
   ]
  },
  {
   "attachments": {},
   "cell_type": "markdown",
   "metadata": {},
   "source": [
    "### There is a stong relationship between [Age, Annual Salary, Net worth] AND [Car purchase amount].   Using these inputs, we can predict reasonable with confidence the amount a customer will spend on a car.  With a R2 on the test set of .999% and not meaningful drift between MSE Test and MSE Train, we can be confident our model has reasonable predictive power.\n"
   ]
  }
 ],
 "metadata": {
  "kernelspec": {
   "display_name": "base",
   "language": "python",
   "name": "python3"
  },
  "language_info": {
   "codemirror_mode": {
    "name": "ipython",
    "version": 3
   },
   "file_extension": ".py",
   "mimetype": "text/x-python",
   "name": "python",
   "nbconvert_exporter": "python",
   "pygments_lexer": "ipython3",
   "version": "3.8.16"
  },
  "orig_nbformat": 4
 },
 "nbformat": 4,
 "nbformat_minor": 2
}
