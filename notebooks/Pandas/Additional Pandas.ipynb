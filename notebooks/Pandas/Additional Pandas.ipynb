{
 "cells": [
  {
   "cell_type": "code",
   "execution_count": 1,
   "metadata": {},
   "outputs": [],
   "source": [
    "import pandas as pd\n",
    "import numpy as np"
   ]
  },
  {
   "cell_type": "code",
   "execution_count": 2,
   "metadata": {},
   "outputs": [],
   "source": [
    "A = {\"Name_Teacher\" :[\"Ann\", \"Mala\", \"Sean\"], \n",
    "     \"Category_1\":[\"1-12\", \"15-19\", \"6-20\"], \n",
    "     \"Category_2\":[\"2-10\", \"3-12\", \"5-19\"],\n",
    "     \"DC\":[\"2.1\", \"6.5\", \"7.1\"]}"
   ]
  },
  {
   "cell_type": "code",
   "execution_count": 3,
   "metadata": {},
   "outputs": [],
   "source": [
    "Ad = pd.DataFrame(A, index=[\"I1\", \"I2\", \"I3\"])"
   ]
  },
  {
   "cell_type": "code",
   "execution_count": 4,
   "metadata": {},
   "outputs": [
    {
     "name": "stdout",
     "output_type": "stream",
     "text": [
      "   Name_Teacher Category_1 Category_2   DC\n",
      "I1          Ann       1-12       2-10  2.1\n",
      "I2         Mala      15-19       3-12  6.5\n",
      "I3         Sean       6-20       5-19  7.1\n"
     ]
    }
   ],
   "source": [
    "print(Ad)"
   ]
  },
  {
   "cell_type": "code",
   "execution_count": 5,
   "metadata": {},
   "outputs": [],
   "source": [
    "Ad2 = Ad.copy(deep = True)\n",
    "Ad3 = Ad.copy(deep = True)"
   ]
  },
  {
   "cell_type": "code",
   "execution_count": 6,
   "metadata": {},
   "outputs": [
    {
     "name": "stdout",
     "output_type": "stream",
     "text": [
      "   Teacher     C1    C2   DC\n",
      "I1     Ann   1-12  2-10  2.1\n",
      "I2    Mala  15-19  3-12  6.5\n",
      "I3    Sean   6-20  5-19  7.1\n"
     ]
    }
   ],
   "source": [
    "# let's rename the columns to Teacher, C1 and C2\n",
    "\n",
    "Ad.columns = [\"Teacher\", \"C1\", \"C2\", \"DC\"]\n",
    "print(Ad)"
   ]
  },
  {
   "cell_type": "code",
   "execution_count": 7,
   "metadata": {},
   "outputs": [],
   "source": [
    "# We can also use rename() method to rename columns. Here we only changes two column names\n",
    "\n",
    "Ad2.rename(columns={\"Name_Teacher\": \"Teacher\", \"Category_1\": \"C1\"}, inplace=True)"
   ]
  },
  {
   "cell_type": "code",
   "execution_count": 8,
   "metadata": {},
   "outputs": [
    {
     "name": "stdout",
     "output_type": "stream",
     "text": [
      "   Teacher     C1 Category_2   DC\n",
      "I1     Ann   1-12       2-10  2.1\n",
      "I2    Mala  15-19       3-12  6.5\n",
      "I3    Sean   6-20       5-19  7.1\n"
     ]
    }
   ],
   "source": [
    "print(Ad2)"
   ]
  },
  {
   "cell_type": "code",
   "execution_count": 9,
   "metadata": {},
   "outputs": [],
   "source": [
    "# how to split column C1\n",
    "# https://www.geeksforgeeks.org/python-pandas-split-strings-into-two-list-columns-using-str-split/\n",
    "\n",
    "C1new = Ad[\"C1\"].str.split(\"-\", n = -1, expand = True)\n",
    "  \n",
    "# making separate column C11 from C1new\n",
    "Ad[\"C11\"]= C1new[0]\n",
    "  \n",
    "# making separate column C12 from C1new\n",
    "Ad[\"C12\"]= C1new[1]"
   ]
  },
  {
   "cell_type": "code",
   "execution_count": 10,
   "metadata": {},
   "outputs": [
    {
     "name": "stdout",
     "output_type": "stream",
     "text": [
      "   Teacher     C1    C2   DC C11 C12\n",
      "I1     Ann   1-12  2-10  2.1   1  12\n",
      "I2    Mala  15-19  3-12  6.5  15  19\n",
      "I3    Sean   6-20  5-19  7.1   6  20\n",
      "Teacher    object\n",
      "C1         object\n",
      "C2         object\n",
      "DC         object\n",
      "C11        object\n",
      "C12        object\n",
      "dtype: object\n"
     ]
    }
   ],
   "source": [
    "print(Ad)\n",
    "print(Ad.dtypes)"
   ]
  },
  {
   "cell_type": "code",
   "execution_count": 11,
   "metadata": {},
   "outputs": [
    {
     "name": "stdout",
     "output_type": "stream",
     "text": [
      "Teacher     object\n",
      "C1          object\n",
      "C2          object\n",
      "DC         float64\n",
      "C11        float64\n",
      "C12        float64\n",
      "dtype: object\n"
     ]
    }
   ],
   "source": [
    "convert_dict = {'C11': float,\n",
    "                'C12': float,\n",
    "                 'DC': float\n",
    "               }\n",
    "  \n",
    "Ad = Ad.astype(convert_dict)\n",
    "print(Ad.dtypes)"
   ]
  },
  {
   "cell_type": "code",
   "execution_count": 12,
   "metadata": {},
   "outputs": [
    {
     "name": "stdout",
     "output_type": "stream",
     "text": [
      "Teacher    Sean\n",
      "C1         6-20\n",
      "C2         5-19\n",
      "DC          7.1\n",
      "C11           6\n",
      "C12          20\n",
      "Name: I3, dtype: object\n"
     ]
    }
   ],
   "source": [
    "# iloc[n] will return the row at Python index n\n",
    "\n",
    "print(Ad.iloc[2])"
   ]
  },
  {
   "cell_type": "code",
   "execution_count": 13,
   "metadata": {},
   "outputs": [
    {
     "name": "stdout",
     "output_type": "stream",
     "text": [
      "   Teacher     C1    C2   DC   C11   C12\n",
      "I1     Ann   1-12  2-10  2.1   1.0  12.0\n",
      "I2    Mala  15-19  3-12  6.5  15.0  19.0\n"
     ]
    }
   ],
   "source": [
    "# we can also use slicing with iloc to get multiple rows\n",
    "\n",
    "print(Ad.iloc[0:2])"
   ]
  },
  {
   "cell_type": "code",
   "execution_count": 14,
   "metadata": {},
   "outputs": [
    {
     "name": "stdout",
     "output_type": "stream",
     "text": [
      "Teacher     Mala\n",
      "C1         15-19\n",
      "C2          3-12\n",
      "DC           6.5\n",
      "C11           15\n",
      "C12           19\n",
      "Name: I2, dtype: object\n"
     ]
    }
   ],
   "source": [
    "# using loc[custom_index] we can access custom_index row. If there is no custom_index, it will consider Python index \n",
    "\n",
    "print(Ad.loc[\"I2\"])"
   ]
  },
  {
   "cell_type": "code",
   "execution_count": 15,
   "metadata": {},
   "outputs": [
    {
     "data": {
      "text/plain": [
       "'\\nIn-class activity 1: Create a Pandas data frame that has the following information and \\ncall this data frame df1:\\n\\nFirst_Name - Asha, Ajay, Polly, Liz\\nLast_Name - Lani, Pali, Santos, Park\\nZip_code - 20110, 57714, 76501, 95117\\n\\nRename the columns to First, Last and Zip\\n'"
      ]
     },
     "execution_count": 15,
     "metadata": {},
     "output_type": "execute_result"
    }
   ],
   "source": [
    "\"\"\"\n",
    "In-class activity 1: Create a Pandas data frame that has the following information and \n",
    "call this data frame df1:\n",
    "\n",
    "First_Name - Asha, Ajay, Polly, Liz\n",
    "Last_Name - Lani, Pali, Santos, Park\n",
    "Zip_code - 20110, 57714, 76501, 95117\n",
    "\n",
    "Rename the columns to First, Last and Zip\n",
    "\"\"\""
   ]
  },
  {
   "cell_type": "code",
   "execution_count": 16,
   "metadata": {},
   "outputs": [
    {
     "name": "stdout",
     "output_type": "stream",
     "text": [
      "    0\n",
      "0  12\n",
      "1  14\n",
      "2  16\n",
      "3  12\n",
      "4  18\n",
      "5  19\n",
      "6  16\n",
      "7  20\n",
      "8  17\n",
      "9  12\n",
      "Number of rows in B 10\n"
     ]
    }
   ],
   "source": [
    "list1 = [12, 14, 16, 12, 18, 19, 16, 20, 17, 12]\n",
    "\n",
    "B = pd.DataFrame(list1)\n",
    "\n",
    "print(B)\n",
    "print(\"Number of rows in B\", B.shape[0])"
   ]
  },
  {
   "cell_type": "code",
   "execution_count": 17,
   "metadata": {},
   "outputs": [
    {
     "name": "stdout",
     "output_type": "stream",
     "text": [
      "0    19\n",
      "Name: 5, dtype: int64\n",
      "0    19\n",
      "Name: 5, dtype: int64\n"
     ]
    }
   ],
   "source": [
    "# Since B doesn't have custom_index yet, iloc[n] and loc[n] will return nth row\n",
    "\n",
    "print(B.iloc[5])\n",
    "\n",
    "print(B.loc[5])"
   ]
  },
  {
   "cell_type": "code",
   "execution_count": 18,
   "metadata": {},
   "outputs": [
    {
     "name": "stdout",
     "output_type": "stream",
     "text": [
      "    0\n",
      "0  12\n",
      "1  14\n",
      "2  16\n",
      "4  18\n",
      "5  19\n",
      "7  20\n",
      "8  17\n",
      "Number of rows in B 7\n"
     ]
    }
   ],
   "source": [
    "# drop_duplicates will drop duplicate rows\n",
    "\n",
    "B.drop_duplicates(inplace=True)\n",
    "\n",
    "print(B)\n",
    "print(\"Number of rows in B\", B.shape[0])"
   ]
  },
  {
   "cell_type": "code",
   "execution_count": 19,
   "metadata": {},
   "outputs": [
    {
     "name": "stdout",
     "output_type": "stream",
     "text": [
      "   Values\n",
      "0      12\n",
      "1      14\n",
      "2      16\n",
      "4      18\n",
      "5      19\n",
      "7      20\n",
      "8      17\n"
     ]
    }
   ],
   "source": [
    "# Adding column name to an exsisting dataframe\n",
    "\n",
    "B.columns = [\"Values\"]\n",
    "\n",
    "print(B)"
   ]
  },
  {
   "cell_type": "code",
   "execution_count": 20,
   "metadata": {},
   "outputs": [
    {
     "name": "stdout",
     "output_type": "stream",
     "text": [
      "   Values\n",
      "A      12\n",
      "B      14\n",
      "C      16\n",
      "D      18\n",
      "E      19\n",
      "F      20\n",
      "G      17\n"
     ]
    }
   ],
   "source": [
    "# Adding custom index to an exsisting dataframe\n",
    "\n",
    "B.index = [\"A\", \"B\", \"C\", \"D\", \"E\", \"F\", \"G\"]\n",
    "\n",
    "print(B)"
   ]
  },
  {
   "cell_type": "code",
   "execution_count": 21,
   "metadata": {},
   "outputs": [
    {
     "name": "stdout",
     "output_type": "stream",
     "text": [
      "   Values  Names\n",
      "A      12   Ball\n",
      "B      14   Hall\n",
      "C      16   Doll\n",
      "D      18   Mall\n",
      "E      19  Shawl\n",
      "F      20   Wall\n",
      "G      17   Call\n"
     ]
    }
   ],
   "source": [
    "# Adding additional columns to an existing dataframe\n",
    "\n",
    "list2 = [\"Ball\", \"Hall\", \"Doll\", \"Mall\", \"Shawl\", \"Wall\", \"Call\"]\n",
    "\n",
    "B[\"Names\"] = list2\n",
    "\n",
    "print(B)"
   ]
  },
  {
   "cell_type": "code",
   "execution_count": 22,
   "metadata": {},
   "outputs": [
    {
     "data": {
      "text/plain": [
       "'\\nIn-class activity 2: Use the df1 dataframe from the previous in-class activity and add \\nanother column named Scores with values 87, 85, 90, 77. Call the new dataframe as df2.\\n'"
      ]
     },
     "execution_count": 22,
     "metadata": {},
     "output_type": "execute_result"
    }
   ],
   "source": [
    "\"\"\"\n",
    "In-class activity 2: Use the df1 dataframe from the previous in-class activity and add \n",
    "another column named Scores with values 87, 85, 90, 77. Call the new dataframe as df2.\n",
    "\"\"\""
   ]
  },
  {
   "cell_type": "markdown",
   "metadata": {},
   "source": [
    "### Combining two dataframes"
   ]
  },
  {
   "cell_type": "code",
   "execution_count": 23,
   "metadata": {},
   "outputs": [
    {
     "name": "stdout",
     "output_type": "stream",
     "text": [
      "   Names  Numbers\n",
      "0   Ball      2.0\n",
      "1   Hall      6.1\n",
      "2   Doll     13.2\n",
      "3   Mall      5.3\n",
      "4  Shawl      7.4\n",
      "5   Wall      6.3\n",
      "6   Call      8.2\n"
     ]
    }
   ],
   "source": [
    "list3 = [2.0, 6.1, 13.2, 5.3, 7.4, 6.3, 8.2]\n",
    "\n",
    "C = pd.DataFrame(list(zip(list2, list3)), columns=(\"Names\", \"Numbers\"))\n",
    "\n",
    "print(C)"
   ]
  },
  {
   "cell_type": "code",
   "execution_count": 24,
   "metadata": {},
   "outputs": [
    {
     "name": "stdout",
     "output_type": "stream",
     "text": [
      "   Values  Names  Numbers\n",
      "A    12.0   Ball      NaN\n",
      "B    14.0   Hall      NaN\n",
      "C    16.0   Doll      NaN\n",
      "D    18.0   Mall      NaN\n",
      "E    19.0  Shawl      NaN\n",
      "F    20.0   Wall      NaN\n",
      "G    17.0   Call      NaN\n",
      "0     NaN   Ball      2.0\n",
      "1     NaN   Hall      6.1\n",
      "2     NaN   Doll     13.2\n",
      "3     NaN   Mall      5.3\n",
      "4     NaN  Shawl      7.4\n",
      "5     NaN   Wall      6.3\n",
      "6     NaN   Call      8.2\n"
     ]
    }
   ],
   "source": [
    "newdf = B.append(C, sort=False)\n",
    "\n",
    "print(newdf)"
   ]
  },
  {
   "cell_type": "code",
   "execution_count": 25,
   "metadata": {},
   "outputs": [
    {
     "name": "stdout",
     "output_type": "stream",
     "text": [
      "   Values  Names  Names  Numbers\n",
      "A    12.0   Ball    NaN      NaN\n",
      "B    14.0   Hall    NaN      NaN\n",
      "C    16.0   Doll    NaN      NaN\n",
      "D    18.0   Mall    NaN      NaN\n",
      "E    19.0  Shawl    NaN      NaN\n",
      "F    20.0   Wall    NaN      NaN\n",
      "G    17.0   Call    NaN      NaN\n",
      "0     NaN    NaN   Ball      2.0\n",
      "1     NaN    NaN   Hall      6.1\n",
      "2     NaN    NaN   Doll     13.2\n",
      "3     NaN    NaN   Mall      5.3\n",
      "4     NaN    NaN  Shawl      7.4\n",
      "5     NaN    NaN   Wall      6.3\n",
      "6     NaN    NaN   Call      8.2\n"
     ]
    }
   ],
   "source": [
    "newdf2 = pd.concat([B, C], axis=1)\n",
    "\n",
    "print(newdf2)"
   ]
  },
  {
   "cell_type": "code",
   "execution_count": 26,
   "metadata": {},
   "outputs": [
    {
     "name": "stdout",
     "output_type": "stream",
     "text": [
      "   Names\n",
      "A   Ball\n",
      "B   Hall\n",
      "C   Doll\n",
      "D   Mall\n",
      "E  Shawl\n",
      "F   Wall\n",
      "G   Call\n",
      "0   Ball\n",
      "1   Hall\n",
      "2   Doll\n",
      "3   Mall\n",
      "4  Shawl\n",
      "5   Wall\n",
      "6   Call\n"
     ]
    }
   ],
   "source": [
    "newdf3 = pd.concat([B, C], join = \"inner\")\n",
    "\n",
    "print(newdf3)"
   ]
  },
  {
   "cell_type": "code",
   "execution_count": 27,
   "metadata": {},
   "outputs": [
    {
     "name": "stdout",
     "output_type": "stream",
     "text": [
      "   Values  Names  Numbers\n",
      "A    12.0   Ball      NaN\n",
      "B    14.0   Hall      NaN\n",
      "C    16.0   Doll      NaN\n",
      "D    18.0   Mall      NaN\n",
      "E    19.0  Shawl      NaN\n",
      "F    20.0   Wall      NaN\n",
      "G    17.0   Call      NaN\n",
      "0     NaN   Ball      2.0\n",
      "1     NaN   Hall      6.1\n",
      "2     NaN   Doll     13.2\n",
      "3     NaN   Mall      5.3\n",
      "4     NaN  Shawl      7.4\n",
      "5     NaN   Wall      6.3\n",
      "6     NaN   Call      8.2\n"
     ]
    }
   ],
   "source": [
    "newdf4 = pd.concat([B, C], join = \"outer\", sort=False)\n",
    "\n",
    "print(newdf4)"
   ]
  },
  {
   "cell_type": "code",
   "execution_count": 28,
   "metadata": {},
   "outputs": [
    {
     "name": "stdout",
     "output_type": "stream",
     "text": [
      "   Values  Names  Numbers\n",
      "0      12   Ball      2.0\n",
      "1      14   Hall      6.1\n",
      "2      16   Doll     13.2\n",
      "3      18   Mall      5.3\n",
      "4      19  Shawl      7.4\n",
      "5      20   Wall      6.3\n",
      "6      17   Call      8.2\n"
     ]
    }
   ],
   "source": [
    "newf5 = pd.merge(B, C, on=\"Names\")\n",
    "\n",
    "print(newf5)"
   ]
  },
  {
   "cell_type": "code",
   "execution_count": 29,
   "metadata": {},
   "outputs": [
    {
     "name": "stdout",
     "output_type": "stream",
     "text": [
      "0   -1\n",
      "1   -2\n",
      "2   -6\n",
      "3   -5\n",
      "dtype: int64\n",
      "0     9\n",
      "1    10\n",
      "2     4\n",
      "3     3\n",
      "dtype: int64\n"
     ]
    }
   ],
   "source": [
    "S1 = pd.Series([-1, -2, -6, -5])\n",
    "\n",
    "S2 = pd.Series([9, 10, 4, 3])\n",
    "\n",
    "print(S1); print(S2)"
   ]
  },
  {
   "cell_type": "markdown",
   "metadata": {},
   "source": [
    "### concatenating two series"
   ]
  },
  {
   "cell_type": "code",
   "execution_count": 30,
   "metadata": {},
   "outputs": [
    {
     "name": "stdout",
     "output_type": "stream",
     "text": [
      "   0   1\n",
      "0 -1   9\n",
      "1 -2  10\n",
      "2 -6   4\n",
      "3 -5   3\n"
     ]
    }
   ],
   "source": [
    "S3 = pd.concat([S1, S2], axis=1)\n",
    "print(S3)"
   ]
  },
  {
   "cell_type": "code",
   "execution_count": 31,
   "metadata": {},
   "outputs": [
    {
     "data": {
      "text/html": [
       "<div>\n",
       "<style scoped>\n",
       "    .dataframe tbody tr th:only-of-type {\n",
       "        vertical-align: middle;\n",
       "    }\n",
       "\n",
       "    .dataframe tbody tr th {\n",
       "        vertical-align: top;\n",
       "    }\n",
       "\n",
       "    .dataframe thead th {\n",
       "        text-align: right;\n",
       "    }\n",
       "</style>\n",
       "<table border=\"1\" class=\"dataframe\">\n",
       "  <thead>\n",
       "    <tr style=\"text-align: right;\">\n",
       "      <th></th>\n",
       "      <th>A</th>\n",
       "      <th>B</th>\n",
       "      <th>D</th>\n",
       "      <th>E</th>\n",
       "    </tr>\n",
       "  </thead>\n",
       "  <tbody>\n",
       "    <tr>\n",
       "      <th>0</th>\n",
       "      <td>1</td>\n",
       "      <td>0</td>\n",
       "      <td>0</td>\n",
       "      <td>0</td>\n",
       "    </tr>\n",
       "    <tr>\n",
       "      <th>1</th>\n",
       "      <td>0</td>\n",
       "      <td>1</td>\n",
       "      <td>0</td>\n",
       "      <td>0</td>\n",
       "    </tr>\n",
       "    <tr>\n",
       "      <th>2</th>\n",
       "      <td>0</td>\n",
       "      <td>0</td>\n",
       "      <td>0</td>\n",
       "      <td>1</td>\n",
       "    </tr>\n",
       "    <tr>\n",
       "      <th>3</th>\n",
       "      <td>0</td>\n",
       "      <td>0</td>\n",
       "      <td>1</td>\n",
       "      <td>0</td>\n",
       "    </tr>\n",
       "  </tbody>\n",
       "</table>\n",
       "</div>"
      ],
      "text/plain": [
       "   A  B  D  E\n",
       "0  1  0  0  0\n",
       "1  0  1  0  0\n",
       "2  0  0  0  1\n",
       "3  0  0  1  0"
      ]
     },
     "execution_count": 31,
     "metadata": {},
     "output_type": "execute_result"
    }
   ],
   "source": [
    "S4 = pd.Series([\"A\", \"B\", \"E\", \"D\"])\n",
    "pd.get_dummies(S4)"
   ]
  },
  {
   "cell_type": "code",
   "execution_count": 32,
   "metadata": {},
   "outputs": [
    {
     "data": {
      "text/plain": [
       "'\\nIn-class activity 3: create dataframe ddf1 with values\\nColors - Red, Yellow, Orange\\nRatings- 5, 3, 4\\n\\nCreate another dataframe ddf2 with values\\n\\nColors - Blue, Green, Orange\\nRatings- 5, 3, 4\\n\\n1) Combine ddf1 and ddf2 along the rows and call it ddf3\\n\\n2) Remove any duplicates from ddf3.\\n\\n'"
      ]
     },
     "execution_count": 32,
     "metadata": {},
     "output_type": "execute_result"
    }
   ],
   "source": [
    "\"\"\"\n",
    "In-class activity 3: create dataframe ddf1 with values\n",
    "Colors - Red, Yellow, Orange\n",
    "Ratings- 5, 3, 4\n",
    "\n",
    "Create another dataframe ddf2 with values\n",
    "\n",
    "Colors - Blue, Green, Orange\n",
    "Ratings- 5, 3, 4\n",
    "\n",
    "1) Combine ddf1 and ddf2 along the rows and call it ddf3\n",
    "\n",
    "2) Remove any duplicates from ddf3.\n",
    "\n",
    "\"\"\""
   ]
  },
  {
   "cell_type": "code",
   "execution_count": null,
   "metadata": {},
   "outputs": [],
   "source": []
  },
  {
   "cell_type": "code",
   "execution_count": null,
   "metadata": {},
   "outputs": [],
   "source": []
  }
 ],
 "metadata": {
  "kernelspec": {
   "display_name": "Python 3",
   "language": "python",
   "name": "python3"
  },
  "language_info": {
   "codemirror_mode": {
    "name": "ipython",
    "version": 3
   },
   "file_extension": ".py",
   "mimetype": "text/x-python",
   "name": "python",
   "nbconvert_exporter": "python",
   "pygments_lexer": "ipython3",
   "version": "3.7.4"
  }
 },
 "nbformat": 4,
 "nbformat_minor": 2
}
