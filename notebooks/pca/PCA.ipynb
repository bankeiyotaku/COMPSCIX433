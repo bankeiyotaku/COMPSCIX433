{
 "cells": [
  {
   "cell_type": "markdown",
   "metadata": {},
   "source": [
    "### Principal Component Analysis (PCA) \n",
    "\n",
    "PCA is an unsupervised learning model. "
   ]
  },
  {
   "cell_type": "markdown",
   "metadata": {},
   "source": [
    "#### Different terms that we need to know for PCA: \n",
    "\n",
    "1) Dimensionality - The number of features in a dataset.\n",
    "\n",
    "2) Correlation - the linear relationship between two features. \n",
    "\n",
    "3) Orthogonal - correlation between any pair of features is zero.\n",
    "\n",
    "4) Eigen vectors - $v$ is an eigen vector of A if $ A v = \\lambda v $ where $\\lambda$ is a scalar."
   ]
  },
  {
   "cell_type": "markdown",
   "metadata": {},
   "source": [
    "### PCA steps:\n",
    "\n",
    "1) Standardize the data\n",
    "\n",
    "2) Calculate the covariance matrix\n",
    "\n",
    "<img src=\"covariance1.png\" width=400, height=300>\n",
    "\n",
    "3) Calculate the eigen values and eigen vectors\n",
    "\n",
    "$ det( A - \\lambda I)  = 0 $\n",
    "\n",
    "$ ( A - \\lambda I)v  = 0 $\n",
    "\n",
    "4) Choosing components - arrange eigen values from highest to lowest and choose the components with highest eigen values. \n",
    "\n",
    "5) Forming Principal components \n",
    "\n",
    "new points = feature vectors * scaled data\n",
    "\n",
    "new data is the matrix consisting the principal components, feature vector is the matrix with eigen vectors what we considered, scaled data is the scaled version of the original data.\n"
   ]
  },
  {
   "cell_type": "markdown",
   "metadata": {},
   "source": [
    "##### An Example \n",
    "\n",
    "\n",
    "Let's consider a linear equation. \n",
    "\n",
    "3x - 9 = 0 How to solve this for x?\n",
    "\n",
    "##### Steps Involved\n",
    "\n",
    "3x - 9 = 0, add 9 to both sides\n",
    "\n",
    "3x - 9 + 9 = 0 + 9\n",
    "\n",
    "3x = 9, divide both sides by 3\n",
    "\n",
    "3x/3 = 9/3 \n",
    "\n",
    "x = 3"
   ]
  },
  {
   "cell_type": "markdown",
   "metadata": {},
   "source": [
    "##### Generalization \n",
    "\n",
    "Now if we had \n",
    "\n",
    "Ax = B\n",
    "\n",
    "solve the above equation for x, provided $A^{-1}$ exists.\n",
    "\n",
    "$A^{-1} * A x = A^{-1} * B $\n",
    "\n",
    "To compute $A^{-1}$, we would need one crucial value called the determinant of A."
   ]
  },
  {
   "cell_type": "markdown",
   "metadata": {},
   "source": [
    "##### Determinant Helps us to solve the above equation\n",
    "\n",
    "If A = [[a b] \n",
    "        [c d]]\n",
    " \n",
    "\n",
    "Determinant, det(A) is a scalar. \n",
    "\n",
    "The det(A) for a 2-by-2 matrix = a* d - c* b "
   ]
  },
  {
   "cell_type": "markdown",
   "metadata": {},
   "source": [
    "##### Let's compute the determinant \n",
    "\n",
    "A = [[-2  5]\n",
    "     [3   2]] \n",
    "     \n",
    "     \n",
    "det(A) = (-2)* 2 - 3* 5 = - 4 - 15 = - 19 \n",
    "\n",
    "since det(A) is not zero, A will have an inverse. "
   ]
  },
  {
   "cell_type": "code",
   "execution_count": null,
   "metadata": {},
   "outputs": [],
   "source": []
  },
  {
   "cell_type": "markdown",
   "metadata": {},
   "source": [
    "##### Solving a system of equations\n",
    "\n",
    "3x + 2y = 17  - eq(1)\n",
    "\n",
    "2x - y =  9   - eq(2)\n",
    "\n",
    "System of 2 equations. Find x and y. To find x and y we have to solve the system. \n",
    "\n",
    "\n",
    "We will represent the coefficients of x and y on the lefthand side\n",
    "by matrix A\n",
    "\n",
    "A = [[3, 2],\n",
    "     [2, -1]], \n",
    "     \n",
    "\n",
    "\n",
    "X is a column vector that contains only the variables\n",
    "     \n",
    "X = [x, \n",
    "     y], \n",
    "     \n",
    " B is a column vector that contains the constants. \n",
    "     \n",
    " B = [17, \n",
    "      9]\n",
    "\n",
    "AX = B, note that A is a matrix. Now this is similar to what we saw above. \n",
    "\n",
    "We need to have an inverse for A, $A^{-1}.$\n",
    "\n",
    "$A^{-1}$ will exist only when det(A) is not zero. \n",
    "\n",
    "What is the det(A) = 3(-1) - 2* 2  = -3 - 4 = -7.\n",
    "\n",
    "Since det(A) is not zero, $A^{-1}$ exists."
   ]
  },
  {
   "cell_type": "markdown",
   "metadata": {},
   "source": [
    "##### Another example to compute determinant  \n",
    "\n",
    "det(A) is a scalar \n",
    "\n",
    "A = [[a, b], \n",
    "     [c, d]]\n",
    "\n",
    "det(A) = a * d - b * c\n",
    "\n",
    "\n",
    "example: A = [[2, 3],\n",
    "              [1, 6]]\n",
    "    \n",
    "det(A) = 2 * 6 - 1 * 3 = 12 - 3 = 9\n",
    "\n",
    "since det(A) is not zero, means A has an inverse."
   ]
  },
  {
   "cell_type": "markdown",
   "metadata": {},
   "source": [
    "##### Setting up ground for Eigen Values\n",
    "\n",
    "Av = bv, we have to find v and b where b is a scalar and v is a vector\n",
    "\n",
    "Av = bv, subtract bv from both sides\n",
    "\n",
    "Av - bv = bv - bv\n",
    "\n",
    "Av - bv = 0\n",
    "\n",
    "notice that v is the common factor in the above equation\n",
    "\n",
    "(A - b) v = 0, v can't be zero.\n",
    "\n",
    "\n",
    "(A-b) = 0 \n",
    "\n",
    "I is an identity matrix, which is a square matrix, Identity matrix for 2-by-2 is [[1, 0],[0, 1]]\n",
    "\n",
    "det(A - b* I) = 0\n",
    "\n",
    "\n",
    "\n",
    "(recall: xy = 0, this means either x = 0 or y = 0)"
   ]
  },
  {
   "cell_type": "markdown",
   "metadata": {},
   "source": [
    "##### Finding the eigen values of eigen vectors \n",
    "\n",
    "$ A =[ [2, -1], [-1, 2]] $\n",
    "\n",
    "$ A v = \\lambda * v $ we are looking for $\\lambda$ and $v.$\n",
    "\n",
    "$ A v - \\lambda * v = 0 $\n",
    "\n",
    "$ (A - \\lambda I) * v = 0 $\n",
    "\n",
    "$ \\text{det}[[ 2-\\lambda, -1] [-1, 2-\\lambda]] = 0 $ we will solve this for $\\lambda.$"
   ]
  },
  {
   "cell_type": "markdown",
   "metadata": {},
   "source": [
    "##### Let's compute the eigen values and the corresponding eigen vectors "
   ]
  },
  {
   "cell_type": "code",
   "execution_count": 1,
   "metadata": {},
   "outputs": [
    {
     "name": "stdout",
     "output_type": "stream",
     "text": [
      "[3.+0.j 1.+0.j]\n",
      "[3.+0.j 1.+0.j]\n",
      "[[ 0.70710678  0.70710678]\n",
      " [-0.70710678  0.70710678]]\n"
     ]
    }
   ],
   "source": [
    "\"\"\"\n",
    "If A = [[ 2, -1], [-1, 2]], let's find the eigen values and then eigen vectors of A. \n",
    "\"\"\"\n",
    "\n",
    "\n",
    "from scipy import linalg\n",
    "import numpy as np\n",
    "\n",
    "a = np.array([[2.0, -1.0], [-1., 2.0]])\n",
    "eigen_vals = linalg.eigvals(a)\n",
    "print(eigen_vals)\n",
    "\n",
    "lam, eigen_vecs = linalg.eig(a)\n",
    "\n",
    "print(lam)\n",
    "print(eigen_vecs)"
   ]
  },
  {
   "cell_type": "code",
   "execution_count": 2,
   "metadata": {},
   "outputs": [
    {
     "name": "stdout",
     "output_type": "stream",
     "text": [
      "[-1.+0.j  5.+0.j]\n",
      "[-1.+0.j  5.+0.j]\n",
      "[[-0.70710678 -0.4472136 ]\n",
      " [ 0.70710678 -0.89442719]]\n"
     ]
    }
   ],
   "source": [
    "\"\"\"\n",
    "In-class activity: If A = [[ 1, 2], [4, 3]], find the eigen values and then eigen vectors of \n",
    "A. \n",
    "\"\"\""
   ]
  },
  {
   "cell_type": "markdown",
   "metadata": {},
   "source": [
    "#### Detailed example of PCA steps\n",
    "\n",
    "Let's perform PCA on the below dataset\n",
    "\n",
    "<img src=\"matrixA.png\" width=300, height=200>\n",
    "\n",
    "this dataset has three features.\n",
    "\n",
    "The mean of the features is\n",
    "\n",
    "<img src=\"meanofA.png\" width=300, height=200>\n",
    "\n",
    "The covariance formula is\n",
    "\n",
    "<img src=\"conv_formula.png\" width=300, height=200>\n",
    "\n",
    "\n",
    "The covariance matrix is \n",
    "\n",
    "<img src=\"covariance1.png\" width=300, height=200>\n",
    "\n",
    "The original dataset along with the convariance \n",
    "\n",
    "<img src=\"con2.png\" width=300, height=200>\n",
    "\n",
    "From the covariance matrix we can say that:\n",
    "\n",
    "1) Art has the biggest variance and English has the least.\n",
    "\n",
    "2) The covariance between Math and English is 360, while the covariance between Math and Art is 180. \n",
    "\n",
    "3) The covariance between Art and English is 0. \n",
    "\n",
    "Let's compute the eigen values of A\n",
    "\n",
    "<img src=\"eigen1.png\" width=300, height=200>\n",
    "\n",
    "<img src=\"eigen2.png\" width=400, height=300>\n",
    "\n",
    "<img src=\"eigen3.png\" width=300, height=200>\n",
    "\n",
    "<img src=\"eigen4.png\" width=300, height=200>\n",
    "\n",
    "<img src=\"eigen6.png\" width=300, height=200>\n",
    "\n",
    "<img src=\"eigen7.png\" width=300, height=200>\n",
    "\n",
    "<img src=\"eigen8.png\" width=300, height=200>\n",
    "\n",
    "References:\n",
    "https://towardsdatascience.com/the-mathematics-behind-principal-component-analysis-fff2d7f4b643"
   ]
  },
  {
   "cell_type": "markdown",
   "metadata": {},
   "source": [
    "##### Important Observation after performing PCA\n",
    "\n",
    "With PCA, we transformed a three dimensional space to two-dimensional space."
   ]
  },
  {
   "cell_type": "markdown",
   "metadata": {},
   "source": [
    "### Building a PCA model"
   ]
  },
  {
   "cell_type": "code",
   "execution_count": 2,
   "metadata": {},
   "outputs": [],
   "source": [
    "%matplotlib inline\n",
    "import matplotlib.pyplot as plt\n",
    "import pandas as pd"
   ]
  },
  {
   "cell_type": "code",
   "execution_count": 3,
   "metadata": {},
   "outputs": [],
   "source": [
    "url = \"https://archive.ics.uci.edu/ml/machine-learning-databases/iris/iris.data\"\n",
    "# load dataset into Pandas DataFrame\n",
    "df = pd.read_csv(url, names=['sepal length','sepal width','petal length','petal width','target'])"
   ]
  },
  {
   "cell_type": "code",
   "execution_count": 4,
   "metadata": {},
   "outputs": [
    {
     "name": "stdout",
     "output_type": "stream",
     "text": [
      "    sepal length  sepal width  petal length  petal width           target\n",
      "45           4.8          3.0           1.4          0.3      Iris-setosa\n",
      "46           5.1          3.8           1.6          0.2      Iris-setosa\n",
      "47           4.6          3.2           1.4          0.2      Iris-setosa\n",
      "48           5.3          3.7           1.5          0.2      Iris-setosa\n",
      "49           5.0          3.3           1.4          0.2      Iris-setosa\n",
      "50           7.0          3.2           4.7          1.4  Iris-versicolor\n",
      "51           6.4          3.2           4.5          1.5  Iris-versicolor\n",
      "52           6.9          3.1           4.9          1.5  Iris-versicolor\n",
      "53           5.5          2.3           4.0          1.3  Iris-versicolor\n",
      "54           6.5          2.8           4.6          1.5  Iris-versicolor\n"
     ]
    }
   ],
   "source": [
    "print(df[45:55])"
   ]
  },
  {
   "cell_type": "code",
   "execution_count": 5,
   "metadata": {},
   "outputs": [],
   "source": [
    "# Standardizing the data to mean zero and standard deviation 1\n",
    "\n",
    "from sklearn.preprocessing import StandardScaler\n",
    "features = ['sepal length', 'sepal width', 'petal length', 'petal width']\n",
    "\n",
    "# Separating out the features\n",
    "x = df.loc[:, features].values\n",
    "\n",
    "# Separating out the target\n",
    "y = df.loc[:,['target']].values\n",
    "\n",
    "# Standardizing the features\n",
    "x = StandardScaler().fit_transform(x)"
   ]
  },
  {
   "cell_type": "code",
   "execution_count": 6,
   "metadata": {},
   "outputs": [
    {
     "name": "stdout",
     "output_type": "stream",
     "text": [
      "[[-0.90068117  1.03205722 -1.3412724  -1.31297673]\n",
      " [-1.14301691 -0.1249576  -1.3412724  -1.31297673]\n",
      " [-1.38535265  0.33784833 -1.39813811 -1.31297673]\n",
      " [-1.50652052  0.10644536 -1.2844067  -1.31297673]\n",
      " [-1.02184904  1.26346019 -1.3412724  -1.31297673]]\n"
     ]
    }
   ],
   "source": [
    "print(x[0:5])"
   ]
  },
  {
   "cell_type": "code",
   "execution_count": 30,
   "metadata": {},
   "outputs": [
    {
     "name": "stdout",
     "output_type": "stream",
     "text": [
      "[[0.72770452]\n",
      " [0.95800975]\n",
      " [0.99484807]\n",
      " [1.        ]]\n"
     ]
    }
   ],
   "source": [
    "print(y[0:5])"
   ]
  },
  {
   "cell_type": "markdown",
   "metadata": {},
   "source": [
    "Note: sepal length, sepal width, petal length, petal width - 4 features\n",
    "\n",
    "n_components = 2,\n",
    "\n",
    "pca1, some linear combination of the features\n",
    "\n",
    "pca2, will be some other linear combinations of the features\n",
    "\n",
    "from 4 features, we are coming down to 2 components. "
   ]
  },
  {
   "cell_type": "markdown",
   "metadata": {},
   "source": [
    "#### Using PCA to reduce the dimensionality from 4 to 2"
   ]
  },
  {
   "cell_type": "code",
   "execution_count": 7,
   "metadata": {},
   "outputs": [],
   "source": [
    "# using PCA to reduce the dimensionality from 4 to 2\n",
    "\n",
    "from sklearn.decomposition import PCA\n",
    "\n",
    "# creating a pca object and specifying the number of principal components\n",
    "pca = PCA(n_components=2) \n",
    "\n",
    "# applying fit and transforming x\n",
    "principalComponents = pca.fit_transform(x)\n",
    "\n",
    "# specifying the number of components\n",
    "principalDf = pd.DataFrame(data = principalComponents\n",
    "             , columns = ['principal component 1', 'principal component 2'])"
   ]
  },
  {
   "cell_type": "code",
   "execution_count": 8,
   "metadata": {},
   "outputs": [
    {
     "name": "stdout",
     "output_type": "stream",
     "text": [
      "   principal component 1  principal component 2\n",
      "0              -2.264542               0.505704\n",
      "1              -2.086426              -0.655405\n",
      "2              -2.367950              -0.318477\n",
      "3              -2.304197              -0.575368\n",
      "4              -2.388777               0.674767\n"
     ]
    }
   ],
   "source": [
    "# the head of the principalDf\n",
    "\n",
    "print(principalDf.head())"
   ]
  },
  {
   "cell_type": "code",
   "execution_count": 9,
   "metadata": {},
   "outputs": [],
   "source": [
    "# concatenating the target values and the new principal components\n",
    "\n",
    "finalDf = pd.concat([principalDf, df[['target']]], axis = 1)"
   ]
  },
  {
   "cell_type": "code",
   "execution_count": 10,
   "metadata": {},
   "outputs": [
    {
     "name": "stdout",
     "output_type": "stream",
     "text": [
      "    principal component 1  principal component 2           target\n",
      "45              -2.075358              -0.691917      Iris-setosa\n",
      "46              -2.381258               1.150633      Iris-setosa\n",
      "47              -2.398192              -0.362391      Iris-setosa\n",
      "48              -2.226781               1.025483      Iris-setosa\n",
      "49              -2.205954               0.032238      Iris-setosa\n",
      "50               1.103994               0.863112  Iris-versicolor\n",
      "51               0.732481               0.598636  Iris-versicolor\n",
      "52               1.242110               0.614822  Iris-versicolor\n",
      "53               0.397307              -1.758169  Iris-versicolor\n",
      "54               1.072594              -0.211758  Iris-versicolor\n"
     ]
    }
   ],
   "source": [
    "# checking the output of finalDf\n",
    "\n",
    "print(finalDf[45:55])"
   ]
  },
  {
   "cell_type": "markdown",
   "metadata": {},
   "source": [
    "#### Visualization of PCA"
   ]
  },
  {
   "cell_type": "code",
   "execution_count": 11,
   "metadata": {},
   "outputs": [
    {
     "data": {
      "image/png": "[encoded data removed]",
      "text/plain": [
       "<Figure size 576x576 with 1 Axes>"
      ]
     },
     "metadata": {
      "needs_background": "light"
     },
     "output_type": "display_data"
    }
   ],
   "source": [
    "# Visualization\n",
    "\n",
    "fig = plt.figure(figsize = (8,8))\n",
    "ax = fig.add_subplot(1,1,1) \n",
    "ax.set_xlabel('Principal Component 1', fontsize = 15)\n",
    "ax.set_ylabel('Principal Component 2', fontsize = 15)\n",
    "ax.set_title('2 component PCA', fontsize = 20)\n",
    "targets = ['Iris-setosa', 'Iris-versicolor', 'Iris-virginica']\n",
    "colors = ['r', 'g', 'b']\n",
    "for target, color in zip(targets,colors):\n",
    "    indicesToKeep = finalDf['target'] == target\n",
    "    ax.scatter(finalDf.loc[indicesToKeep, 'principal component 1']\n",
    "               , finalDf.loc[indicesToKeep, 'principal component 2']\n",
    "               , c = color\n",
    "               , s = 50)\n",
    "ax.legend(targets)\n",
    "ax.grid()"
   ]
  },
  {
   "cell_type": "markdown",
   "metadata": {},
   "source": [
    "#### Scree Plot for explained variance"
   ]
  },
  {
   "cell_type": "code",
   "execution_count": 12,
   "metadata": {},
   "outputs": [
    {
     "data": {
      "image/png": "[encoded data removed]",
      "text/plain": [
       "<Figure size 432x288 with 1 Axes>"
      ]
     },
     "metadata": {
      "needs_background": "light"
     },
     "output_type": "display_data"
    }
   ],
   "source": [
    "PC_values = np.arange(pca.n_components_) + 1\n",
    "plt.plot(PC_values, pca.explained_variance_ratio_, 'ro-', linewidth=2)\n",
    "plt.title('Scree Plot')\n",
    "plt.xlabel('Principal Component')\n",
    "plt.ylabel('Proportion of Variance Explained')\n",
    "plt.show()"
   ]
  },
  {
   "cell_type": "markdown",
   "metadata": {},
   "source": [
    "##### PCA with 4 components on Iris data\n",
    "\n",
    "This means we start with 4 features and we are building a PCA with 4 components."
   ]
  },
  {
   "cell_type": "code",
   "execution_count": 13,
   "metadata": {},
   "outputs": [],
   "source": [
    "pca4 = PCA(n_components=4) # creating a pca object and specifying the number of principal components\n",
    "\n",
    "PComponents4 = pca4.fit_transform(x)\n",
    "\n",
    "PDf = pd.DataFrame(data = PComponents4\n",
    "             , columns = ['pc1', 'pc2', 'pc3', 'pc4'])"
   ]
  },
  {
   "cell_type": "code",
   "execution_count": 14,
   "metadata": {},
   "outputs": [
    {
     "data": {
      "image/png": "[encoded data removed]",
      "text/plain": [
       "<Figure size 432x288 with 1 Axes>"
      ]
     },
     "metadata": {
      "needs_background": "light"
     },
     "output_type": "display_data"
    }
   ],
   "source": [
    "PC4values = np.arange(pca4.n_components_) + 1\n",
    "plt.plot(PC4values, pca4.explained_variance_ratio_, 'ro-', linewidth=2)\n",
    "plt.title('Scree Plot')\n",
    "plt.xlabel('Principal Component')\n",
    "plt.ylabel('Proportion of Variance Explained')\n",
    "plt.show()"
   ]
  },
  {
   "cell_type": "code",
   "execution_count": 2,
   "metadata": {},
   "outputs": [],
   "source": [
    "##### Cumulative Explained Variance"
   ]
  },
  {
   "cell_type": "code",
   "execution_count": 31,
   "metadata": {},
   "outputs": [
    {
     "data": {
      "image/png": "[encoded data removed]",
      "text/plain": [
       "<Figure size 864x432 with 1 Axes>"
      ]
     },
     "metadata": {
      "needs_background": "light"
     },
     "output_type": "display_data"
    }
   ],
   "source": [
    "%matplotlib inline\n",
    "import matplotlib.pyplot as plt\n",
    "plt.rcParams[\"figure.figsize\"] = (12,6)\n",
    "\n",
    "fig, ax = plt.subplots()\n",
    "xi = np.arange(1, 5, step=1)\n",
    "yi = np.cumsum(pca4.explained_variance_ratio_)\n",
    "\n",
    "plt.ylim(0.0,1.1)\n",
    "plt.plot(xi, yi, marker='o', linestyle='--', color='b')\n",
    "\n",
    "plt.xlabel('Number of Components')\n",
    "plt.xticks(np.arange(0, 11, step=1)) #change from 0-based array index to 1-based human-readable label\n",
    "plt.ylabel('Cumulative variance (%)')\n",
    "plt.title('The number of components needed to explain variance')\n",
    "\n",
    "plt.axhline(y=0.90, color='r', linestyle='-')\n",
    "plt.text(0.5, 0.85, '90% cut-off threshold', color = 'red', fontsize=16)\n",
    "\n",
    "ax.grid(axis='x')\n",
    "plt.show()"
   ]
  },
  {
   "cell_type": "markdown",
   "metadata": {},
   "source": [
    "##### Important measure\n",
    "\n",
    "Explained variance tells us how much information (variance) \n",
    "can be attributed to each principal component.\n",
    "\n",
    "variance ratio for a pca component = eigen value of pca component/ sum of eigen values\n",
    "\n",
    "\n",
    "An example:\n",
    "\n",
    "Let 4 and 2 be two eigen values, then \n",
    "\n",
    "variance_ratio  for pca1 = 4/6 \n",
    "\n",
    "variance ratio for pca2 = 2/6\n"
   ]
  },
  {
   "cell_type": "code",
   "execution_count": 32,
   "metadata": {},
   "outputs": [
    {
     "data": {
      "text/plain": [
       "array([0.72770452, 0.23030523])"
      ]
     },
     "execution_count": 32,
     "metadata": {},
     "output_type": "execute_result"
    }
   ],
   "source": [
    "# explained variance for the iris dataset with two components is\n",
    "\n",
    "pca.explained_variance_ratio_"
   ]
  },
  {
   "cell_type": "markdown",
   "metadata": {},
   "source": [
    "##### Observation from the previous output\n",
    "\n",
    "\n",
    "We have 4 features. Goal is to express these 4 features as a linear combination and only get two components\n",
    "\n",
    "s1, s2, p1, p2 - features\n",
    "\n",
    "Either we want to have 3 principal components or 2 or 1. \n",
    "\n",
    "We choose the number of PCs. \n",
    "\n",
    "We want to have two principal components so that the visualization is easier. \n",
    "\n",
    "pca1 = linear combination of s1, s2, p1 and p2\n",
    "\n",
    "pca2 = another linear combination of s1, s2, p1 and p2\n",
    "\n",
    "\n",
    "The explained variance is 72.7% for PCA 1 and  23% for PCA 2\n",
    "\n",
    "Explained variance of PCA 1 + explained variance of PCA 2 = 72.7 + 23 = 95.7 % \n",
    "\n",
    "This means that PCA 3 and PCA 4 will explain only 4.3% of the data set. So, not considering PCA 3 and PCA 4 is okay. "
   ]
  },
  {
   "cell_type": "markdown",
   "metadata": {},
   "source": [
    "### Building A Classifier using principal component 1 and principal component 2."
   ]
  },
  {
   "cell_type": "code",
   "execution_count": 21,
   "metadata": {},
   "outputs": [],
   "source": [
    "from sklearn.model_selection import train_test_split"
   ]
  },
  {
   "cell_type": "code",
   "execution_count": 39,
   "metadata": {},
   "outputs": [],
   "source": [
    "y = df[[\"target\"]].values"
   ]
  },
  {
   "cell_type": "code",
   "execution_count": 42,
   "metadata": {},
   "outputs": [],
   "source": [
    "y = np.array(y)"
   ]
  },
  {
   "cell_type": "code",
   "execution_count": 43,
   "metadata": {},
   "outputs": [],
   "source": [
    "y = y.ravel()"
   ]
  },
  {
   "cell_type": "code",
   "execution_count": 44,
   "metadata": {},
   "outputs": [],
   "source": [
    "x_train, x_test, y_train, y_test = train_test_split(principalDf_2, y, test_size = 0.2, random_state=1)"
   ]
  },
  {
   "cell_type": "code",
   "execution_count": 45,
   "metadata": {},
   "outputs": [],
   "source": [
    "from sklearn.naive_bayes import GaussianNB\n",
    "\n",
    "# Create a Gaussian Classifier\n",
    "gnb = GaussianNB()\n",
    "\n",
    "#Train the model using the training sets\n",
    "gnb.fit(x_train, y_train)\n",
    "\n",
    "#Predict the response for test dataset\n",
    "y_pred = gnb.predict(x_test)"
   ]
  },
  {
   "cell_type": "code",
   "execution_count": 46,
   "metadata": {},
   "outputs": [
    {
     "name": "stdout",
     "output_type": "stream",
     "text": [
      "Accuracy: 0.9666666666666667\n"
     ]
    }
   ],
   "source": [
    "from sklearn import metrics\n",
    "\n",
    "# Model Accuracy, how often is the classifier correct?\n",
    "print(\"Accuracy:\", metrics.accuracy_score(y_test, y_pred))"
   ]
  },
  {
   "cell_type": "markdown",
   "metadata": {},
   "source": [
    "#### Conclusion\n",
    "\n",
    "This means that the first principal component contains 72.77% of the variance and the second principal component contains 23.03% of the variance. Together they contain 95.08% of the information.\n",
    "\n",
    "References:\n",
    "https://towardsdatascience.com/pca-using-python-scikit-learn-e653f8989e60"
   ]
  },
  {
   "cell_type": "code",
   "execution_count": 54,
   "metadata": {},
   "outputs": [],
   "source": [
    "\"\"\"\n",
    "In-class activity:\n",
    "\n",
    "Apply PCA to the iris dataset that we used above. Find the explained variance ratio for each component when \n",
    "n-components is 3. After you get 3 principal components, build GaussainNB and Logistic Regression models and get \n",
    "accuracy for each model.\n",
    "\"\"\""
   ]
  },
  {
   "cell_type": "code",
   "execution_count": null,
   "metadata": {},
   "outputs": [],
   "source": []
  }
 ],
 "metadata": {
  "kernelspec": {
   "display_name": "Python 3 (ipykernel)",
   "language": "python",
   "name": "python3"
  },
  "language_info": {
   "codemirror_mode": {
    "name": "ipython",
    "version": 3
   },
   "file_extension": ".py",
   "mimetype": "text/x-python",
   "name": "python",
   "nbconvert_exporter": "python",
   "pygments_lexer": "ipython3",
   "version": "3.10.9"
  },
  "widgets": {
   "state": {},
   "version": "1.1.2"
  }
 },
 "nbformat": 4,
 "nbformat_minor": 2
}
